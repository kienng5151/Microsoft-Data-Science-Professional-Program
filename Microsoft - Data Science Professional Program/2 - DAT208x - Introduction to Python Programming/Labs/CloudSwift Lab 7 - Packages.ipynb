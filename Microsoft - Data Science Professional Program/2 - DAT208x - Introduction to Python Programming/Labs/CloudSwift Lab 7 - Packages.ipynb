{
 "metadata": {
  "language_info": {
   "codemirror_mode": {
    "name": "ipython",
    "version": 3
   },
   "file_extension": ".py",
   "mimetype": "text/x-python",
   "name": "python",
   "nbconvert_exporter": "python",
   "pygments_lexer": "ipython3",
   "version": "3.7.3-final"
  },
  "orig_nbformat": 2,
  "kernelspec": {
   "name": "python3",
   "display_name": "Python 3",
   "language": "python"
  }
 },
 "nbformat": 4,
 "nbformat_minor": 2,
 "cells": [
  {
   "source": [
    "# Packages\n",
    "\n",
    "In these exercises, you will write Python to import different packages and solve interesting problems. There are many different ways to import packages, and you'll get some practice with all of them.\n",
    "\n",
    "You can type Python code in the code cells following the instruction cells to solve the exercises. \n",
    "\n",
    "You can also use the IPython Shell interactively. Go to View (on the menubar) and click terminal or press `Ctrl` + ` to open the terminal. Once terminal is open, type py and hit Enter. This will launch interactive python cell. You can write python statements and hit Enter to see the output in the next line in the cell."
   ],
   "cell_type": "markdown",
   "metadata": {
    "trusted": true,
    "editable": false,
    "deletable": false
   }
  },
  {
   "source": [
    "## Exercise 1: Import package\n",
    "\n",
    "As a data scientist, some notions of geometry never hurt. Let's refresh some of the basics.\n",
    "\n",
    "For a fancy clustering algorithm, you want to find the circumference `C`\n",
    "and area `A` of a circle. When the radius of the circle is `r`, you can calculate `C` and `A`\n",
    "\n",
    "as:\n",
    "\n",
    "C = 2πr\n",
    "\n",
    "A =  πr<sup>2</sup> \n",
    "\n",
    "\n",
    "To use the constant `pi`, you'll need the `math` package. A variable `r` is already coded in the script. Fill in the code to calculate C and A and see how the print() functions create some nice printouts.\n",
    "\n",
    "### Instructions\n",
    "\n",
    "- Import the `math` package. Now you can access the constant `pi` with `math.pi`.\n",
    "- Calculate the circumference of the circle and store it in `C`.\n",
    "- Calculate the area of the circle and store it in `A`.\n"
   ],
   "cell_type": "markdown",
   "metadata": {}
  },
  {
   "cell_type": "code",
   "execution_count": 1,
   "metadata": {},
   "outputs": [
    {
     "output_type": "stream",
     "name": "stdout",
     "text": [
      "Circumference: 2.701769682087222\nArea: 0.5808804816487527\n"
     ]
    }
   ],
   "source": [
    "# Definition of radius\n",
    "r = 0.43\n",
    "\n",
    "# Import the math package\n",
    "import math\n",
    "\n",
    "# Calculate C\n",
    "C = 2 * math.pi * r\n",
    "\n",
    "# Calculate A\n",
    "A = math.pi * r**2\n",
    "\n",
    "# Build printout\n",
    "print(\"Circumference: \" + str(C))\n",
    "print(\"Area: \" + str(A))"
   ]
  },
  {
   "source": [
    "## Exercise 2: Selective import\n",
    "\n",
    "General imports, like `import math`, make all functionality from the `math` package available to you. However, if you decide to only use a specific part of a package, you can always make your import more selective:\n",
    "```\n",
    "from math import pi\n",
    "```\n",
    "Let's say the Moon's orbit around planet Earth is a perfect circle, with a radius `r` (in km) that is defined in the script.\n",
    "### Instructions\n",
    "\n",
    "- Perform a selective import from the math package where you only import the radians function.\n",
    "- Calculate the distance travelled by the Moon over 12 degrees of its orbit. Assign the result to dist. You can calculate this as `r*Φ`, where is `r` the radius and `Φ` is the angle in radians. To convert an angle in degrees to an angle in radians, use the radians() function, which you just imported.\n",
    "Print out dist."
   ],
   "cell_type": "markdown",
   "metadata": {}
  },
  {
   "cell_type": "code",
   "execution_count": 2,
   "metadata": {},
   "outputs": [
    {
     "output_type": "stream",
     "name": "stdout",
     "text": [
      "40317.10572106901\n"
     ]
    }
   ],
   "source": [
    "# Definition of radius\n",
    "r = 192500\n",
    "\n",
    "# Import radians function of math package\n",
    "from math import radians\n",
    "\n",
    "# Travel distance of Moon if 12 degrees. Store in dist.\n",
    "dist = r * radians(12)\n",
    "\n",
    "# Print out dist\n",
    "print(dist)"
   ]
  },
  {
   "source": [
    "## Exercise 3: Different ways of importing\n",
    "\n",
    "There are several ways to import packages and modules into Python. Depending on the import call, you'll have to use different Python code.\n",
    "\n",
    "Suppose you want to use the function `inv()`, which is in the `linalg` subpackage of the `scipy` package. You want to be able to use this function as follows:\n",
    "```\n",
    "my_inv([[1,2], [3,4]])\n",
    "```\n",
    "Which import statement will you need in order to run the above code without an error?\n",
    "### Instructions\n",
    "Try following statements in the next code cell to see which one works\n",
    "\n",
    "- import scipy\n",
    "- import scipy.linalg\n",
    "- from scipy.linalg import my_inv\n",
    "- from scipy.linalg import inv as my_inv\n",
    "\n",
    "### _Note: You might get **`ModuleNotFoundError`**. In that case open the terminal by pressing `Ctrl +` \\` and run `pip install scipy`_"
   ],
   "cell_type": "markdown",
   "metadata": {}
  },
  {
   "cell_type": "code",
   "execution_count": 3,
   "metadata": {},
   "outputs": [
    {
     "output_type": "execute_result",
     "data": {
      "text/plain": [
       "array([[-2. ,  1. ],\n",
       "       [ 1.5, -0.5]])"
      ]
     },
     "metadata": {},
     "execution_count": 3
    }
   ],
   "source": [
    "# import required package (with suitable alias)\n",
    "from scipy.linalg import inv as my_inv\n",
    "my_inv([[1,2], [3,4]])"
   ]
  },
  {
   "source": [
    "## Congratulations\n",
    "\n",
    "You did it! You have successfully completed the exercises. \n",
    "\n",
    "Save your work by pressing `Ctrl + s` and head over to the next video in the course.\n",
    "\n",
    "Don't forget to Turn Off the Lab. Remember - Don't shut down the machine, but click on the x icon on top right to close the lab session."
   ],
   "cell_type": "markdown",
   "metadata": {}
  }
 ]
}